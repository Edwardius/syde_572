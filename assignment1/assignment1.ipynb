{
 "cells": [
  {
   "cell_type": "code",
   "execution_count": 1,
   "metadata": {},
   "outputs": [],
   "source": [
    "import pandas"
   ]
  },
  {
   "cell_type": "code",
   "execution_count": null,
   "metadata": {},
   "outputs": [
    {
     "data": {
      "text/html": [
       "<div>\n",
       "<style scoped>\n",
       "    .dataframe tbody tr th:only-of-type {\n",
       "        vertical-align: middle;\n",
       "    }\n",
       "\n",
       "    .dataframe tbody tr th {\n",
       "        vertical-align: top;\n",
       "    }\n",
       "\n",
       "    .dataframe thead th {\n",
       "        text-align: right;\n",
       "    }\n",
       "</style>\n",
       "<table border=\"1\" class=\"dataframe\">\n",
       "  <thead>\n",
       "    <tr style=\"text-align: right;\">\n",
       "      <th></th>\n",
       "      <th>City</th>\n",
       "      <th>Age</th>\n",
       "      <th>Salary</th>\n",
       "      <th>Purchased</th>\n",
       "    </tr>\n",
       "  </thead>\n",
       "  <tbody>\n",
       "    <tr>\n",
       "      <th>0</th>\n",
       "      <td>Hyderabad</td>\n",
       "      <td>44.0</td>\n",
       "      <td>72000.0</td>\n",
       "      <td>No</td>\n",
       "    </tr>\n",
       "    <tr>\n",
       "      <th>1</th>\n",
       "      <td>Mumbai</td>\n",
       "      <td>27.0</td>\n",
       "      <td>48000.0</td>\n",
       "      <td>Yes</td>\n",
       "    </tr>\n",
       "    <tr>\n",
       "      <th>2</th>\n",
       "      <td>Delhi</td>\n",
       "      <td>30.0</td>\n",
       "      <td>54000.0</td>\n",
       "      <td>No</td>\n",
       "    </tr>\n",
       "    <tr>\n",
       "      <th>3</th>\n",
       "      <td>Mumbai</td>\n",
       "      <td>38.0</td>\n",
       "      <td>61000.0</td>\n",
       "      <td>No</td>\n",
       "    </tr>\n",
       "    <tr>\n",
       "      <th>4</th>\n",
       "      <td>Delhi</td>\n",
       "      <td>40.0</td>\n",
       "      <td>NaN</td>\n",
       "      <td>Yes</td>\n",
       "    </tr>\n",
       "    <tr>\n",
       "      <th>5</th>\n",
       "      <td>Hyderabad</td>\n",
       "      <td>35.0</td>\n",
       "      <td>58000.0</td>\n",
       "      <td>Yes</td>\n",
       "    </tr>\n",
       "    <tr>\n",
       "      <th>6</th>\n",
       "      <td>Mumbai</td>\n",
       "      <td>NaN</td>\n",
       "      <td>52000.0</td>\n",
       "      <td>No</td>\n",
       "    </tr>\n",
       "    <tr>\n",
       "      <th>7</th>\n",
       "      <td>Hyderabad</td>\n",
       "      <td>48.0</td>\n",
       "      <td>79000.0</td>\n",
       "      <td>Yes</td>\n",
       "    </tr>\n",
       "    <tr>\n",
       "      <th>8</th>\n",
       "      <td>Delhi</td>\n",
       "      <td>50.0</td>\n",
       "      <td>83000.0</td>\n",
       "      <td>No</td>\n",
       "    </tr>\n",
       "    <tr>\n",
       "      <th>9</th>\n",
       "      <td>Hyderabad</td>\n",
       "      <td>37.0</td>\n",
       "      <td>67000.0</td>\n",
       "      <td>Yes</td>\n",
       "    </tr>\n",
       "  </tbody>\n",
       "</table>\n",
       "</div>"
      ],
      "text/plain": [
       "        City   Age   Salary Purchased\n",
       "0  Hyderabad  44.0  72000.0        No\n",
       "1     Mumbai  27.0  48000.0       Yes\n",
       "2      Delhi  30.0  54000.0        No\n",
       "3     Mumbai  38.0  61000.0        No\n",
       "4      Delhi  40.0      NaN       Yes\n",
       "5  Hyderabad  35.0  58000.0       Yes\n",
       "6     Mumbai   NaN  52000.0        No\n",
       "7  Hyderabad  48.0  79000.0       Yes\n",
       "8      Delhi  50.0  83000.0        No\n",
       "9  Hyderabad  37.0  67000.0       Yes"
      ]
     },
     "execution_count": 2,
     "metadata": {},
     "output_type": "execute_result"
    }
   ],
   "source": [
    "# ===================================================== Step 2 =====================================================\n",
    "pandas.read_csv(\"salary.csv\")"
   ]
  },
  {
   "cell_type": "code",
   "execution_count": null,
   "metadata": {},
   "outputs": [
    {
     "name": "stdout",
     "output_type": "stream",
     "text": [
      "X (features):\n",
      "        City   Age   Salary\n",
      "0  Hyderabad  44.0  72000.0\n",
      "1     Mumbai  27.0  48000.0\n",
      "2      Delhi  30.0  54000.0\n",
      "3     Mumbai  38.0  61000.0\n",
      "4      Delhi  40.0      NaN\n",
      "5  Hyderabad  35.0  58000.0\n",
      "6     Mumbai   NaN  52000.0\n",
      "7  Hyderabad  48.0  79000.0\n",
      "8      Delhi  50.0  83000.0\n",
      "9  Hyderabad  37.0  67000.0\n",
      "\n",
      "Y (target):\n",
      "0     No\n",
      "1    Yes\n",
      "2     No\n",
      "3     No\n",
      "4    Yes\n",
      "5    Yes\n",
      "6     No\n",
      "7    Yes\n",
      "8     No\n",
      "9    Yes\n",
      "Name: Purchased, dtype: object\n"
     ]
    }
   ],
   "source": [
    "df = pandas.read_csv(\"salary.csv\")\n",
    "X = df.iloc[:, 0:3]  # X, columns 0, 1, 2 (City, Age, Salary)\n",
    "Y = df.iloc[:, 3]    # Y, column 3 (Purchased)\n",
    "\n",
    "print(\"X (features):\")\n",
    "print(X)\n",
    "print(\"\\nY (target):\")\n",
    "print(Y)"
   ]
  },
  {
   "cell_type": "code",
   "execution_count": null,
   "metadata": {},
   "outputs": [
    {
     "name": "stdout",
     "output_type": "stream",
     "text": [
      "X (features) after replacing NaN with averages:\n",
      "        City        Age        Salary\n",
      "0  Hyderabad  44.000000  72000.000000\n",
      "1     Mumbai  27.000000  48000.000000\n",
      "2      Delhi  30.000000  54000.000000\n",
      "3     Mumbai  38.000000  61000.000000\n",
      "4      Delhi  40.000000  63777.777778\n",
      "5  Hyderabad  35.000000  58000.000000\n",
      "6     Mumbai  38.777778  52000.000000\n",
      "7  Hyderabad  48.000000  79000.000000\n",
      "8      Delhi  50.000000  83000.000000\n",
      "9  Hyderabad  37.000000  67000.000000\n",
      "\n",
      "Y (target):\n",
      "0     No\n",
      "1    Yes\n",
      "2     No\n",
      "3     No\n",
      "4    Yes\n",
      "5    Yes\n",
      "6     No\n",
      "7    Yes\n",
      "8     No\n",
      "9    Yes\n",
      "Name: Purchased, dtype: object\n"
     ]
    }
   ],
   "source": [
    "# ===================================================== Step 3 =====================================================\n",
    "\n",
    "# Replace NaN values with column averages\n",
    "df['Age'] = df['Age'].fillna(df['Age'].mean())\n",
    "df['Salary'] = df['Salary'].fillna(df['Salary'].mean())\n",
    "\n",
    "X = df.iloc[:, 0:3]  # X, columns 0, 1, 2 (City, Age, Salary)\n",
    "Y = df.iloc[:, 3]    # Y, column 3 (Purchased)\n",
    "\n",
    "print(\"X (features) after replacing NaN with averages:\")\n",
    "print(X)\n",
    "print(\"\\nY (target):\")\n",
    "print(Y)"
   ]
  },
  {
   "cell_type": "code",
   "execution_count": null,
   "metadata": {},
   "outputs": [
    {
     "name": "stdout",
     "output_type": "stream",
     "text": [
      "One-Hot Encoded using scikit-learn OneHotEncoder:\n",
      "   City_Delhi  City_Hyderabad  City_Mumbai        Age        Salary Purchased\n",
      "0           0               1            0       44.0       72000.0        No\n",
      "1           0               0            1       27.0       48000.0       Yes\n",
      "2           1               0            0       30.0       54000.0        No\n",
      "3           0               0            1       38.0       61000.0        No\n",
      "4           1               0            0       40.0  63777.777778       Yes\n",
      "5           0               1            0       35.0       58000.0       Yes\n",
      "6           0               0            1  38.777778       52000.0        No\n",
      "7           0               1            0       48.0       79000.0       Yes\n",
      "8           1               0            0       50.0       83000.0        No\n",
      "9           0               1            0       37.0       67000.0       Yes\n"
     ]
    }
   ],
   "source": [
    "# ===================================================== Step 4 =====================================================\n",
    "from sklearn.compose import ColumnTransformer\n",
    "from sklearn.preprocessing import LabelEncoder, OneHotEncoder\n",
    "\n",
    "df_onehot_sklearn = df.copy()\n",
    "\n",
    "# Apply to column 0 (City)\n",
    "ct = ColumnTransformer(\n",
    "    transformers=[('encoder', OneHotEncoder(), [0])],\n",
    "    remainder='passthrough'\n",
    ")\n",
    "\n",
    "X_transformed = ct.fit_transform(df_onehot_sklearn)\n",
    "\n",
    "# Convert to DataFrame for better visualization\n",
    "# Get feature names\n",
    "feature_names = ['City_Delhi', 'City_Hyderabad', 'City_Mumbai', 'Age', 'Salary', 'Purchased']\n",
    "df_onehot_sklearn_result = pandas.DataFrame(X_transformed, columns=feature_names)\n",
    "\n",
    "# Convert one-hot encoded columns to boolean (True/False)\n",
    "city_columns = ['City_Delhi', 'City_Hyderabad', 'City_Mumbai']\n",
    "df_onehot_sklearn_result[city_columns] = df_onehot_sklearn_result[city_columns].astype(int)\n",
    "\n",
    "\n",
    "print(\"One-Hot Encoded using scikit-learn OneHotEncoder:\")\n",
    "print(df_onehot_sklearn_result.head(10))"
   ]
  },
  {
   "cell_type": "code",
   "execution_count": 24,
   "metadata": {},
   "outputs": [
    {
     "name": "stdout",
     "output_type": "stream",
     "text": [
      "One-Hot Encoded using pandas get_dummies:\n",
      "         Age        Salary Purchased  City_Delhi  City_Hyderabad  City_Mumbai\n",
      "0  44.000000  72000.000000        No           0               1            0\n",
      "1  27.000000  48000.000000       Yes           0               0            1\n",
      "2  30.000000  54000.000000        No           1               0            0\n",
      "3  38.000000  61000.000000        No           0               0            1\n",
      "4  40.000000  63777.777778       Yes           1               0            0\n",
      "5  35.000000  58000.000000       Yes           0               1            0\n",
      "6  38.777778  52000.000000        No           0               0            1\n",
      "7  48.000000  79000.000000       Yes           0               1            0\n",
      "8  50.000000  83000.000000        No           1               0            0\n",
      "9  37.000000  67000.000000       Yes           0               1            0\n"
     ]
    }
   ],
   "source": [
    "df_onehot_pandas = df.copy()\n",
    "\n",
    "# Apply get_dummies to the City column\n",
    "df_onehot_pandas = pandas.get_dummies(df_onehot_pandas, columns=['City'], prefix='City', dtype=int)\n",
    "\n",
    "print(\"One-Hot Encoded using pandas get_dummies:\")\n",
    "print(df_onehot_pandas.head(10))"
   ]
  },
  {
   "cell_type": "code",
   "execution_count": 26,
   "metadata": {},
   "outputs": [
    {
     "name": "stdout",
     "output_type": "stream",
     "text": [
      "Label Encoded Purchased column:\n",
      "  Purchased  Purchased_Encoded\n",
      "0        No                  0\n",
      "1       Yes                  1\n",
      "2        No                  0\n",
      "3        No                  0\n",
      "4       Yes                  1\n",
      "5       Yes                  1\n",
      "6        No                  0\n",
      "7       Yes                  1\n",
      "8        No                  0\n",
      "9       Yes                  1\n",
      "\n",
      "Mapping: No=0, Yes=1\n"
     ]
    }
   ],
   "source": [
    "# Using LabelEncoder for binary classification (Yes/No -> 1/0)\n",
    "label_encoder_purchased = LabelEncoder()\n",
    "df_onehot_pandas['Purchased_Encoded'] = label_encoder_purchased.fit_transform(df_onehot_pandas['Purchased'])\n",
    "\n",
    "print(\"Label Encoded Purchased column:\")\n",
    "print(df_onehot_pandas[['Purchased', 'Purchased_Encoded']])\n",
    "print(\"\\nMapping: No=0, Yes=1\")"
   ]
  },
  {
   "cell_type": "code",
   "execution_count": 27,
   "metadata": {},
   "outputs": [
    {
     "name": "stdout",
     "output_type": "stream",
     "text": [
      "Final X (features):\n",
      "         Age        Salary  City_Delhi  City_Hyderabad  City_Mumbai\n",
      "0  44.000000  72000.000000           0               1            0\n",
      "1  27.000000  48000.000000           0               0            1\n",
      "2  30.000000  54000.000000           1               0            0\n",
      "3  38.000000  61000.000000           0               0            1\n",
      "4  40.000000  63777.777778           1               0            0\n",
      "5  35.000000  58000.000000           0               1            0\n",
      "6  38.777778  52000.000000           0               0            1\n",
      "7  48.000000  79000.000000           0               1            0\n",
      "8  50.000000  83000.000000           1               0            0\n",
      "9  37.000000  67000.000000           0               1            0\n",
      "\n",
      "Final Y (target):\n",
      "0    0\n",
      "1    1\n",
      "2    0\n",
      "3    0\n",
      "4    1\n",
      "5    1\n",
      "6    0\n",
      "7    1\n",
      "8    0\n",
      "9    1\n",
      "Name: Purchased_Encoded, dtype: int64\n",
      "\n",
      "X shape: (10, 5)\n",
      "Y shape: (10,)\n"
     ]
    }
   ],
   "source": [
    "# Prepare final X and Y\n",
    "X_final = df_onehot_pandas[['Age', 'Salary', 'City_Delhi', 'City_Hyderabad', 'City_Mumbai']]\n",
    "Y_final = df_onehot_pandas['Purchased_Encoded']\n",
    "\n",
    "print(\"Final X (features):\")\n",
    "print(X_final)\n",
    "print(\"\\nFinal Y (target):\")\n",
    "print(Y_final)\n",
    "print(\"\\nX shape:\", X_final.shape)\n",
    "print(\"Y shape:\", Y_final.shape)"
   ]
  },
  {
   "cell_type": "code",
   "execution_count": 36,
   "metadata": {},
   "outputs": [
    {
     "name": "stdout",
     "output_type": "stream",
     "text": [
      "Dataset Split Results:\n",
      "Total samples: 10\n",
      "Training samples: 8 (80%)\n",
      "Testing samples: 2 (20%)\n",
      "X_train shape: (8, 5)\n",
      "X_test shape: (2, 5)\n",
      "Y_train shape: (8,)\n",
      "Y_test shape: (2,)\n"
     ]
    }
   ],
   "source": [
    "# ===================================================== Step 5 =====================================================\n",
    "from sklearn.model_selection import train_test_split\n",
    "from sklearn.preprocessing import MinMaxScaler\n",
    "\n",
    "# Split Using 80-20 split ratio\n",
    "X_train, X_test, Y_train, Y_test = train_test_split(\n",
    "    X_final, Y_final, test_size=0.2, random_state=88\n",
    ")\n",
    "\n",
    "print(\"Dataset Split Results:\")\n",
    "print(f\"Total samples: {len(X_final)}\")\n",
    "print(f\"Training samples: {len(X_train)} ({len(X_train)/len(X_final)*100:.0f}%)\")\n",
    "print(f\"Testing samples: {len(X_test)} ({len(X_test)/len(X_final)*100:.0f}%)\")\n",
    "print(f\"X_train shape: {X_train.shape}\")\n",
    "print(f\"X_test shape: {X_test.shape}\")\n",
    "print(f\"Y_train shape: {Y_train.shape}\")\n",
    "print(f\"Y_test shape: {Y_test.shape}\")"
   ]
  },
  {
   "cell_type": "code",
   "execution_count": null,
   "metadata": {},
   "outputs": [
    {
     "name": "stdout",
     "output_type": "stream",
     "text": [
      "\n",
      "Original Training Data:\n",
      "         Age        Salary  City_Delhi  City_Hyderabad  City_Mumbai\n",
      "5  35.000000  58000.000000           0               1            0\n",
      "6  38.777778  52000.000000           0               0            1\n",
      "4  40.000000  63777.777778           1               0            0\n",
      "2  30.000000  54000.000000           1               0            0\n",
      "1  27.000000  48000.000000           0               0            1\n",
      "7  48.000000  79000.000000           0               1            0\n",
      "0  44.000000  72000.000000           0               1            0\n",
      "8  50.000000  83000.000000           1               0            0\n",
      "\n",
      "Normalized Training Data:\n",
      "        Age    Salary  City_Delhi  City_Hyderabad  City_Mumbai\n",
      "5  0.347826  0.285714         0.0             1.0          0.0\n",
      "6  0.512077  0.114286         0.0             0.0          1.0\n",
      "4  0.565217  0.450794         1.0             0.0          0.0\n",
      "2  0.130435  0.171429         1.0             0.0          0.0\n",
      "1  0.000000  0.000000         0.0             0.0          1.0\n",
      "7  0.913043  0.885714         0.0             1.0          0.0\n",
      "0  0.739130  0.685714         0.0             1.0          0.0\n",
      "8  1.000000  1.000000         1.0             0.0          0.0\n"
     ]
    }
   ],
   "source": [
    "# Normalization using Min-Max Scaler\n",
    "scaler = MinMaxScaler()\n",
    "X_train_normalized = scaler.fit_transform(X_train)\n",
    "X_test_normalized = scaler.transform(X_test)\n",
    "\n",
    "# Visualize\n",
    "X_train_norm_df = pandas.DataFrame(X_train_normalized, columns=X_train.columns, index=X_train.index)\n",
    "X_test_norm_df = pandas.DataFrame(X_test_normalized, columns=X_test.columns, index=X_test.index)\n",
    "\n",
    "print(\"\\nOriginal Training Data:\")\n",
    "print(X_train)\n",
    "print(\"\\nNormalized Training Data:\")\n",
    "print(X_train_norm_df)"
   ]
  },
  {
   "cell_type": "code",
   "execution_count": 40,
   "metadata": {},
   "outputs": [
    {
     "name": "stdout",
     "output_type": "stream",
     "text": [
      "Standardized Training Data (first 5 rows):\n",
      "        Age    Salary  City_Delhi  City_Hyderabad  City_Mumbai\n",
      "5 -0.535131 -0.470080   -0.774597        1.290994    -0.577350\n",
      "6 -0.041722 -0.962979   -0.774597       -0.774597     1.732051\n",
      "4  0.117910  0.004564    1.290994       -0.774597    -0.577350\n",
      "2 -1.188173 -0.798679    1.290994       -0.774597    -0.577350\n",
      "1 -1.579997 -1.291578   -0.774597       -0.774597     1.732051\n",
      "7  1.162777  1.255067   -0.774597        1.290994    -0.577350\n",
      "0  0.640343  0.680018   -0.774597        1.290994    -0.577350\n",
      "8  1.423993  1.583666    1.290994       -0.774597    -0.577350\n",
      "\n",
      "Statistics after Standardization:\n",
      "Age mean: 0.000000, std: 1.069045\n",
      "Salary mean: 0.000000, std: 1.069045\n"
     ]
    }
   ],
   "source": [
    "# ===================================================== Step 6 =====================================================\n",
    "from sklearn.preprocessing import StandardScaler\n",
    "\n",
    "# Apply StandardScaler\n",
    "standard_scaler = StandardScaler()\n",
    "X_train_standardized = standard_scaler.fit_transform(X_train)\n",
    "X_test_standardized = standard_scaler.transform(X_test)\n",
    "\n",
    "# Convert back to DataFrame for better visualization\n",
    "X_train_std_df = pandas.DataFrame(X_train_standardized, columns=X_train.columns, index=X_train.index)\n",
    "X_test_std_df = pandas.DataFrame(X_test_standardized, columns=X_test.columns, index=X_test.index)\n",
    "\n",
    "print(\"Standardized Training Data (first 5 rows):\")\n",
    "print(X_train_std_df)\n",
    "print(\"\\nStatistics after Standardization:\")\n",
    "print(f\"Age mean: {X_train_std_df['Age'].mean():.6f}, std: {X_train_std_df['Age'].std():.6f}\")\n",
    "print(f\"Salary mean: {X_train_std_df['Salary'].mean():.6f}, std: {X_train_std_df['Salary'].std():.6f}\")"
   ]
  }
 ],
 "metadata": {
  "kernelspec": {
   "display_name": "syde572_venv",
   "language": "python",
   "name": "python3"
  },
  "language_info": {
   "codemirror_mode": {
    "name": "ipython",
    "version": 3
   },
   "file_extension": ".py",
   "mimetype": "text/x-python",
   "name": "python",
   "nbconvert_exporter": "python",
   "pygments_lexer": "ipython3",
   "version": "3.12.3"
  }
 },
 "nbformat": 4,
 "nbformat_minor": 2
}
